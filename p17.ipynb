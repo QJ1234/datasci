{
 "cells": [
  {
   "cell_type": "code",
   "execution_count": 1,
   "metadata": {},
   "outputs": [],
   "source": [
    "import numpy as np\n",
    "import pandas as pd\n",
    "from sklearn.discriminant_analysis import LinearDiscriminantAnalysis\n",
    "from scipy.stats import norm\n",
    "from sklearn.model_selection import train_test_split\n",
    "from sklearn.linear_model import LogisticRegression\n",
    "from sklearn.metrics import accuracy_score\n",
    "from sklearn.preprocessing import StandardScaler"
   ]
  },
  {
   "cell_type": "code",
   "execution_count": 2,
   "metadata": {},
   "outputs": [],
   "source": [
    "data = pd.read_excel('数据科学实践Data/LC-Raisin.xlsx', header=2)\n",
    "data['Class label'] = pd.factorize(data['Class label'])[0]\n",
    "X = data.drop('Class label', axis=1).values\n",
    "y = data['Class label'].values"
   ]
  },
  {
   "cell_type": "code",
   "execution_count": 3,
   "metadata": {},
   "outputs": [],
   "source": [
    "lda = LinearDiscriminantAnalysis(n_components=1)\n",
    "X_lda = lda.fit_transform(X, y)\n",
    "X_lda = (X_lda - X_lda.mean()) / X_lda.std()"
   ]
  },
  {
   "cell_type": "code",
   "execution_count": 4,
   "metadata": {},
   "outputs": [],
   "source": [
    "class0 = X_lda[y == 0]\n",
    "class1 = X_lda[y == 1]\n",
    "mu0, std0 = norm.fit(class0)\n",
    "mu1, std1 = norm.fit(class1)"
   ]
  },
  {
   "cell_type": "code",
   "execution_count": 5,
   "metadata": {},
   "outputs": [
    {
     "name": "stdout",
     "output_type": "stream",
     "text": [
      "Raisin-LDA-Acc1: 0.86\n"
     ]
    }
   ],
   "source": [
    "threshold = (mu0 + mu1) / 2\n",
    "y_pred = (X_lda.ravel() > threshold).astype(int)\n",
    "\n",
    "# 计算准确率\n",
    "accuracy = np.mean(y_pred == y)\n",
    "print('Raisin-LDA-Acc1:', accuracy)"
   ]
  },
  {
   "cell_type": "code",
   "execution_count": null,
   "metadata": {},
   "outputs": [
    {
     "name": "stdout",
     "output_type": "stream",
     "text": [
      "Raisin-LDA-Acc2: 0.8555555555555555\n",
      "Raisin-LDA-Acc3: 0.8555555555555555\n"
     ]
    }
   ],
   "source": [
    "X_train, X_test, y_train, y_test = train_test_split(X, y, test_size=0.3, random_state=42)\n",
    "\n",
    "\n",
    "lda = LinearDiscriminantAnalysis(n_components=1)\n",
    "X_train_lda = lda.fit_transform(X_train, y_train)\n",
    "X_test_lda = lda.transform(X_test)\n",
    "\n",
    "\n",
    "scaler = StandardScaler()\n",
    "X_train = scaler.fit_transform(X_train)\n",
    "X_test = scaler.transform(X_test)\n",
    "X_train_lda = scaler.fit_transform(X_train_lda)\n",
    "X_test_lda = scaler.transform(X_test_lda)\n",
    "\n",
    "clf = LogisticRegression()\n",
    "\n",
    "clf.fit(X_train, y_train)\n",
    "y_pred1 = clf.predict(X_test)\n",
    "acc1 = accuracy_score(y_test, y_pred1)\n",
    "\n",
    "clf.fit(X_train_lda, y_train)\n",
    "y_pred2 = clf.predict(X_test_lda)\n",
    "acc2 = accuracy_score(y_test, y_pred2)\n",
    "\n",
    "print('Raisin-LDA-Acc2:', acc1)\n",
    "print('Raisin-LDA-Acc3:', acc2)"
   ]
  },
  {
   "cell_type": "code",
   "execution_count": null,
   "metadata": {},
   "outputs": [],
   "source": []
  }
 ],
 "metadata": {
  "kernelspec": {
   "display_name": "ml",
   "language": "python",
   "name": "python3"
  },
  "language_info": {
   "codemirror_mode": {
    "name": "ipython",
    "version": 3
   },
   "file_extension": ".py",
   "mimetype": "text/x-python",
   "name": "python",
   "nbconvert_exporter": "python",
   "pygments_lexer": "ipython3",
   "version": "3.12.4"
  }
 },
 "nbformat": 4,
 "nbformat_minor": 2
}
