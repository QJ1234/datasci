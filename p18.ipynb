{
 "cells": [
  {
   "cell_type": "code",
   "execution_count": 1,
   "metadata": {},
   "outputs": [],
   "source": [
    "import numpy as np\n",
    "import pandas as pd\n",
    "from sklearn.discriminant_analysis import LinearDiscriminantAnalysis\n",
    "from scipy.stats import norm\n",
    "from sklearn.model_selection import train_test_split\n",
    "from sklearn.linear_model import LogisticRegression\n",
    "from sklearn.metrics import accuracy_score\n",
    "from sklearn.preprocessing import StandardScaler"
   ]
  },
  {
   "cell_type": "code",
   "execution_count": 2,
   "metadata": {},
   "outputs": [],
   "source": [
    "df = pd.read_excel('数据科学实践Data/LC-UKM.xlsx', header=2, usecols=[0, 1, 2, 3, 4, 5])\n",
    "df[' UNS'] = pd.factorize(df[' UNS'])[0]\n",
    "X = df.drop(columns=' UNS').values\n",
    "y = df[' UNS'].values"
   ]
  },
  {
   "cell_type": "code",
   "execution_count": 3,
   "metadata": {},
   "outputs": [
    {
     "name": "stdout",
     "output_type": "stream",
     "text": [
      "UKM-LDA-Acc2: 0.8925619834710744\n",
      "UKM-LDA-Acc3: 0.8842975206611571\n"
     ]
    }
   ],
   "source": [
    "X_train, X_test, y_train, y_test = train_test_split(X, y, test_size=0.3, random_state=42)\n",
    "\n",
    "\n",
    "lda = LinearDiscriminantAnalysis(n_components=4)\n",
    "X_train_lda = lda.fit_transform(X_train, y_train)\n",
    "X_test_lda = lda.transform(X_test)\n",
    "\n",
    "\n",
    "scaler = StandardScaler()\n",
    "X_train = scaler.fit_transform(X_train)\n",
    "X_test = scaler.transform(X_test)\n",
    "X_train_lda = scaler.fit_transform(X_train_lda)\n",
    "X_test_lda = scaler.transform(X_test_lda)\n",
    "\n",
    "clf = LogisticRegression()\n",
    "\n",
    "clf.fit(X_train, y_train)\n",
    "y_pred1 = clf.predict(X_test)\n",
    "acc1 = accuracy_score(y_test, y_pred1)\n",
    "\n",
    "clf.fit(X_train_lda, y_train)\n",
    "y_pred2 = clf.predict(X_test_lda)\n",
    "acc2 = accuracy_score(y_test, y_pred2)\n",
    "\n",
    "print('UKM-LDA-Acc2:', acc1)\n",
    "print('UKM-LDA-Acc3:', acc2)"
   ]
  },
  {
   "cell_type": "code",
   "execution_count": null,
   "metadata": {},
   "outputs": [],
   "source": []
  }
 ],
 "metadata": {
  "kernelspec": {
   "display_name": "ml",
   "language": "python",
   "name": "python3"
  },
  "language_info": {
   "codemirror_mode": {
    "name": "ipython",
    "version": 3
   },
   "file_extension": ".py",
   "mimetype": "text/x-python",
   "name": "python",
   "nbconvert_exporter": "python",
   "pygments_lexer": "ipython3",
   "version": "3.12.4"
  }
 },
 "nbformat": 4,
 "nbformat_minor": 2
}
