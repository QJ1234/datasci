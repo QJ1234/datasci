{
 "cells": [
  {
   "cell_type": "code",
   "execution_count": 1,
   "metadata": {},
   "outputs": [],
   "source": [
    "import pandas as pd\n",
    "from sklearn.decomposition import PCA\n",
    "from sklearn.linear_model import LogisticRegression\n",
    "from sklearn.model_selection import train_test_split\n",
    "from sklearn.metrics import accuracy_score\n",
    "from sklearn.preprocessing import StandardScaler"
   ]
  },
  {
   "cell_type": "code",
   "execution_count": 2,
   "metadata": {},
   "outputs": [],
   "source": [
    "df = pd.read_excel('数据科学实践Data/LC-UKM.xlsx', header=2, usecols=[0, 1, 2, 3, 4, 5])\n",
    "df[' UNS'] = pd.factorize(df[' UNS'])[0]\n",
    "X = df.drop(' UNS', axis=1)\n",
    "y = df[' UNS']"
   ]
  },
  {
   "cell_type": "code",
   "execution_count": 3,
   "metadata": {},
   "outputs": [],
   "source": [
    "pca = PCA(n_components=0.999, svd_solver='full')\n",
    "X_pca = pca.fit_transform(X)\n",
    "X_pca_train, X_pca_test, y_train, y_pca_test = train_test_split(X_pca, y, test_size=0.3, random_state=0)\n",
    "X_train, X_test, y_train, y_test = train_test_split(X, y, test_size=0.3, random_state=0)\n",
    "\n",
    "\n",
    "scaler = StandardScaler()\n",
    "X_train = scaler.fit_transform(X_train)\n",
    "X_test = scaler.transform(X_test)\n",
    "X_train_pca = scaler.fit_transform(X_pca_train)\n",
    "X_test_pca = scaler.transform(X_pca_test)"
   ]
  },
  {
   "cell_type": "code",
   "execution_count": 4,
   "metadata": {},
   "outputs": [],
   "source": [
    "clf = LogisticRegression()\n",
    "\n",
    "clf.fit(X_pca_train, y_train)\n",
    "y_pred = clf.predict(X_pca_test)\n",
    "UKM_PCA_Acc2 = accuracy_score(y_test, y_pred)\n",
    "\n",
    "clf.fit(X_train, y_train)\n",
    "y_pred = clf.predict(X_test)\n",
    "UKM_PCA_Acc3 = accuracy_score(y_pca_test, y_pred)"
   ]
  },
  {
   "cell_type": "code",
   "execution_count": 5,
   "metadata": {},
   "outputs": [
    {
     "name": "stdout",
     "output_type": "stream",
     "text": [
      "UKM_PCA_Acc2: 0.8429752066115702\n",
      "UKM_PCA_Acc3: 0.9090909090909091\n"
     ]
    }
   ],
   "source": [
    "print('UKM_PCA_Acc2:', UKM_PCA_Acc2)\n",
    "print('UKM_PCA_Acc3:', UKM_PCA_Acc3)"
   ]
  },
  {
   "cell_type": "code",
   "execution_count": null,
   "metadata": {},
   "outputs": [],
   "source": []
  }
 ],
 "metadata": {
  "kernelspec": {
   "display_name": "ml",
   "language": "python",
   "name": "python3"
  },
  "language_info": {
   "codemirror_mode": {
    "name": "ipython",
    "version": 3
   },
   "file_extension": ".py",
   "mimetype": "text/x-python",
   "name": "python",
   "nbconvert_exporter": "python",
   "pygments_lexer": "ipython3",
   "version": "3.12.4"
  }
 },
 "nbformat": 4,
 "nbformat_minor": 2
}
